{
 "cells": [
  {
   "cell_type": "code",
   "execution_count": 12,
   "metadata": {},
   "outputs": [],
   "source": [
    "from selenium import webdriver\n",
    "import urllib.request\n",
    "import time\n",
    "import sys"
   ]
  },
  {
   "cell_type": "code",
   "execution_count": 14,
   "metadata": {},
   "outputs": [],
   "source": [
    "dr= webdriver.Chrome('chromedriver')\n",
    "dr.get('http://store.musinsa.com/app/contents/bestranking?new_product_yn=Y')\n",
    "# 무신사 홈페이지에 접근합니다."
   ]
  },
  {
   "cell_type": "code",
   "execution_count": 15,
   "metadata": {},
   "outputs": [],
   "source": [
    "dr.find_elements_by_class_name('division_search_input')[0].send_keys(50000)\n",
    "dr.find_elements_by_class_name('division_search_input')[1].send_keys(100000)\n",
    "dr.find_element_by_class_name('division_search_btn').click()\n",
    "# 가격 범위를 설정하는 입력칸에 50000과 100000을 입력합니다.\n",
    "time.sleep(2)"
   ]
  },
  {
   "cell_type": "code",
   "execution_count": 16,
   "metadata": {},
   "outputs": [],
   "source": [
    "q = True\n",
    "target = 1000\n",
    "\n",
    "while q:\n",
    "    now_height = dr.execute_script(\"return window.pageYOffset;\")\n",
    "    # 현재 스크롤의 높이를 변수로 가져옵니다.\n",
    "    dr.execute_script(\"window.scrollTo(500, {0});\".format(target))\n",
    "    # target변수에 들어있는 정수만큼 스크롤을 이동합니다.\n",
    "    time.sleep(3)\n",
    "    # 이미지가 로딩 되도록 3초간 기다려 줍니다.\n",
    "    target = target + 1000\n",
    "    # 다음 내려갈 위치를 새롭게 target에 저장합니다.\n",
    "    new_height = dr.execute_script(\"return window.pageYOffset;\")\n",
    "    # 기존의 높이와 비교할 새로운 스크롤 후 높이를 변수로 가져옵니다.\n",
    "    if now_height == new_height:\n",
    "        break\n",
    "    # 스크롤을 했을때 더이상 높이가 내려가지 않는다면 while문을 멈춥니다.\n",
    "#lazy load로 인해"
   ]
  },
  {
   "cell_type": "code",
   "execution_count": 17,
   "metadata": {},
   "outputs": [],
   "source": [
    "items = dr.find_element_by_id('searchList')\n",
    "images = items.find_elements_by_css_selector('img[src^=\"//image.musinsa.com/images\"]')\n",
    "brands = items.find_elements_by_class_name('item_title')\n",
    "prices = items.find_elements_by_class_name('price')\n",
    "\n",
    "# css_selector와 class_name을 통해 이미지, 브랜드텍스트, 가격텍스트 앨리먼트를 모두 리스트로 가져옵니다."
   ]
  },
  {
   "cell_type": "code",
   "execution_count": 18,
   "metadata": {},
   "outputs": [
    {
     "data": {
      "text/plain": [
       "[<selenium.webdriver.remote.webelement.WebElement (session=\"7010c67a1d0f2c530438e46bdf126194\", element=\"130bf371-6834-4235-9d15-5ac2927b8c70\")>,\n",
       " <selenium.webdriver.remote.webelement.WebElement (session=\"7010c67a1d0f2c530438e46bdf126194\", element=\"79a87020-88df-4d1a-9ec0-60ac41fe21d9\")>,\n",
       " <selenium.webdriver.remote.webelement.WebElement (session=\"7010c67a1d0f2c530438e46bdf126194\", element=\"3b7a1c5b-196d-4524-b89e-ff7a12f2f44d\")>,\n",
       " <selenium.webdriver.remote.webelement.WebElement (session=\"7010c67a1d0f2c530438e46bdf126194\", element=\"daaa07e4-144e-44c4-8990-a88f75138bda\")>,\n",
       " <selenium.webdriver.remote.webelement.WebElement (session=\"7010c67a1d0f2c530438e46bdf126194\", element=\"515d6d4e-9f86-412d-a6ff-9ee2e1ce1fc2\")>,\n",
       " <selenium.webdriver.remote.webelement.WebElement (session=\"7010c67a1d0f2c530438e46bdf126194\", element=\"448123a6-7595-41ee-b657-81787ff027c5\")>,\n",
       " <selenium.webdriver.remote.webelement.WebElement (session=\"7010c67a1d0f2c530438e46bdf126194\", element=\"72a3b43e-dc40-4b3e-a7b8-22757b958e96\")>,\n",
       " <selenium.webdriver.remote.webelement.WebElement (session=\"7010c67a1d0f2c530438e46bdf126194\", element=\"caa2842e-f969-4671-a645-7d2d1cee038a\")>,\n",
       " <selenium.webdriver.remote.webelement.WebElement (session=\"7010c67a1d0f2c530438e46bdf126194\", element=\"e94cb961-3018-4958-bda9-a74f25732dcf\")>,\n",
       " <selenium.webdriver.remote.webelement.WebElement (session=\"7010c67a1d0f2c530438e46bdf126194\", element=\"d0f40133-3aee-4bbb-8670-d66119631a1c\")>,\n",
       " <selenium.webdriver.remote.webelement.WebElement (session=\"7010c67a1d0f2c530438e46bdf126194\", element=\"5a2197f8-c578-4089-94d8-b347f8fa9114\")>,\n",
       " <selenium.webdriver.remote.webelement.WebElement (session=\"7010c67a1d0f2c530438e46bdf126194\", element=\"5e63109c-5bfa-4b54-a1b9-508a8d26937c\")>,\n",
       " <selenium.webdriver.remote.webelement.WebElement (session=\"7010c67a1d0f2c530438e46bdf126194\", element=\"645476da-618a-46ab-85d5-b148066ca14e\")>,\n",
       " <selenium.webdriver.remote.webelement.WebElement (session=\"7010c67a1d0f2c530438e46bdf126194\", element=\"277927f1-9c3f-4fe9-a9d0-703a04667d6f\")>,\n",
       " <selenium.webdriver.remote.webelement.WebElement (session=\"7010c67a1d0f2c530438e46bdf126194\", element=\"cd7a0fc6-5c30-44de-b9c4-2420aacc9c9d\")>,\n",
       " <selenium.webdriver.remote.webelement.WebElement (session=\"7010c67a1d0f2c530438e46bdf126194\", element=\"a906fe04-3781-41b4-a2e7-60103af25e22\")>,\n",
       " <selenium.webdriver.remote.webelement.WebElement (session=\"7010c67a1d0f2c530438e46bdf126194\", element=\"7bc64986-a7aa-41aa-bafd-655e605dc93d\")>,\n",
       " <selenium.webdriver.remote.webelement.WebElement (session=\"7010c67a1d0f2c530438e46bdf126194\", element=\"87641fa9-3ca4-4764-b365-02b66b7bd9d6\")>,\n",
       " <selenium.webdriver.remote.webelement.WebElement (session=\"7010c67a1d0f2c530438e46bdf126194\", element=\"ef24a665-9789-4af0-af62-0f48a86f1c27\")>,\n",
       " <selenium.webdriver.remote.webelement.WebElement (session=\"7010c67a1d0f2c530438e46bdf126194\", element=\"762fa567-27f9-4c87-9b35-b8d602de9f10\")>,\n",
       " <selenium.webdriver.remote.webelement.WebElement (session=\"7010c67a1d0f2c530438e46bdf126194\", element=\"cd92936a-4e22-4479-ad4c-a50aa76e6e37\")>,\n",
       " <selenium.webdriver.remote.webelement.WebElement (session=\"7010c67a1d0f2c530438e46bdf126194\", element=\"3a6c680c-9a1f-41ef-9d0d-6f51659102e3\")>,\n",
       " <selenium.webdriver.remote.webelement.WebElement (session=\"7010c67a1d0f2c530438e46bdf126194\", element=\"e2679c3d-0750-4e3a-885d-27fb4db2ccc6\")>,\n",
       " <selenium.webdriver.remote.webelement.WebElement (session=\"7010c67a1d0f2c530438e46bdf126194\", element=\"8ebec92d-8435-4858-92bd-7db01baf53bf\")>,\n",
       " <selenium.webdriver.remote.webelement.WebElement (session=\"7010c67a1d0f2c530438e46bdf126194\", element=\"ff21883d-05e4-481e-9560-235ee5e87ad0\")>,\n",
       " <selenium.webdriver.remote.webelement.WebElement (session=\"7010c67a1d0f2c530438e46bdf126194\", element=\"d3d2ffde-c9e0-4ccb-8281-9644c42fae61\")>,\n",
       " <selenium.webdriver.remote.webelement.WebElement (session=\"7010c67a1d0f2c530438e46bdf126194\", element=\"f6c0cb63-2e64-4e3a-a2c2-70972d6e6376\")>,\n",
       " <selenium.webdriver.remote.webelement.WebElement (session=\"7010c67a1d0f2c530438e46bdf126194\", element=\"eb15fa1a-92ec-4762-b4fc-acc3ac94b9af\")>,\n",
       " <selenium.webdriver.remote.webelement.WebElement (session=\"7010c67a1d0f2c530438e46bdf126194\", element=\"260faaa7-7a3e-4fa2-96f7-bd9595f167ca\")>,\n",
       " <selenium.webdriver.remote.webelement.WebElement (session=\"7010c67a1d0f2c530438e46bdf126194\", element=\"57bb0ff3-bc2f-420a-8a04-a991504b5188\")>,\n",
       " <selenium.webdriver.remote.webelement.WebElement (session=\"7010c67a1d0f2c530438e46bdf126194\", element=\"71e5f12a-384b-40cb-b198-21b6a273c53f\")>,\n",
       " <selenium.webdriver.remote.webelement.WebElement (session=\"7010c67a1d0f2c530438e46bdf126194\", element=\"f6327f64-a5d4-4403-963b-c1b0e661ae6f\")>,\n",
       " <selenium.webdriver.remote.webelement.WebElement (session=\"7010c67a1d0f2c530438e46bdf126194\", element=\"66ffc76f-22bb-4b05-b720-6d26e1352e99\")>,\n",
       " <selenium.webdriver.remote.webelement.WebElement (session=\"7010c67a1d0f2c530438e46bdf126194\", element=\"ef046d38-b74f-427e-b5c8-3dd8f89679f6\")>,\n",
       " <selenium.webdriver.remote.webelement.WebElement (session=\"7010c67a1d0f2c530438e46bdf126194\", element=\"274ec2d8-4a8e-4ab9-a0e2-54a6bf11c4d1\")>,\n",
       " <selenium.webdriver.remote.webelement.WebElement (session=\"7010c67a1d0f2c530438e46bdf126194\", element=\"7e3041d8-a2c4-46b2-a19e-707f6adce6fe\")>,\n",
       " <selenium.webdriver.remote.webelement.WebElement (session=\"7010c67a1d0f2c530438e46bdf126194\", element=\"14356d1e-a2b7-4ad7-ae6e-505878cd0781\")>,\n",
       " <selenium.webdriver.remote.webelement.WebElement (session=\"7010c67a1d0f2c530438e46bdf126194\", element=\"5b61ce2b-4b5e-4f26-be13-7905fc46b338\")>,\n",
       " <selenium.webdriver.remote.webelement.WebElement (session=\"7010c67a1d0f2c530438e46bdf126194\", element=\"359a67ff-e030-4972-a784-ecacb57c8639\")>,\n",
       " <selenium.webdriver.remote.webelement.WebElement (session=\"7010c67a1d0f2c530438e46bdf126194\", element=\"7d7f36ef-4b4f-4062-88cd-c808b38f30a3\")>,\n",
       " <selenium.webdriver.remote.webelement.WebElement (session=\"7010c67a1d0f2c530438e46bdf126194\", element=\"a3f8e91b-6072-4e5f-a0f9-98b1033bd9ab\")>,\n",
       " <selenium.webdriver.remote.webelement.WebElement (session=\"7010c67a1d0f2c530438e46bdf126194\", element=\"42cf50dd-c067-49a6-83c2-54248ed41900\")>,\n",
       " <selenium.webdriver.remote.webelement.WebElement (session=\"7010c67a1d0f2c530438e46bdf126194\", element=\"8d25f504-962f-4a46-8a9e-7481d234e1b0\")>,\n",
       " <selenium.webdriver.remote.webelement.WebElement (session=\"7010c67a1d0f2c530438e46bdf126194\", element=\"d803afd3-9d40-438a-b760-6a0485df13bc\")>,\n",
       " <selenium.webdriver.remote.webelement.WebElement (session=\"7010c67a1d0f2c530438e46bdf126194\", element=\"58e73617-3394-4d49-bf39-aa8826e0fd3a\")>,\n",
       " <selenium.webdriver.remote.webelement.WebElement (session=\"7010c67a1d0f2c530438e46bdf126194\", element=\"5b1b45a1-4659-4149-8c8d-3a282475990e\")>,\n",
       " <selenium.webdriver.remote.webelement.WebElement (session=\"7010c67a1d0f2c530438e46bdf126194\", element=\"b9004993-ac4c-42fc-b2b6-566030492298\")>,\n",
       " <selenium.webdriver.remote.webelement.WebElement (session=\"7010c67a1d0f2c530438e46bdf126194\", element=\"9bba1089-f279-4332-ae55-d8b34d50b399\")>,\n",
       " <selenium.webdriver.remote.webelement.WebElement (session=\"7010c67a1d0f2c530438e46bdf126194\", element=\"52c2239b-647e-4ce4-b990-601c55271e6e\")>,\n",
       " <selenium.webdriver.remote.webelement.WebElement (session=\"7010c67a1d0f2c530438e46bdf126194\", element=\"10b53375-16bd-471e-9ba3-7cf1079137fc\")>,\n",
       " <selenium.webdriver.remote.webelement.WebElement (session=\"7010c67a1d0f2c530438e46bdf126194\", element=\"ce12981d-87c7-4ec9-a89f-8e045ef06b05\")>,\n",
       " <selenium.webdriver.remote.webelement.WebElement (session=\"7010c67a1d0f2c530438e46bdf126194\", element=\"c9893a0b-c876-4e48-947c-5519245c0626\")>,\n",
       " <selenium.webdriver.remote.webelement.WebElement (session=\"7010c67a1d0f2c530438e46bdf126194\", element=\"252f3d82-a716-4502-a7a0-1aff691f737c\")>,\n",
       " <selenium.webdriver.remote.webelement.WebElement (session=\"7010c67a1d0f2c530438e46bdf126194\", element=\"8dc480ce-5130-48e7-bd60-e1cae232832f\")>,\n",
       " <selenium.webdriver.remote.webelement.WebElement (session=\"7010c67a1d0f2c530438e46bdf126194\", element=\"3e16ecaa-70ca-4263-b26c-c4aa5e80ffb3\")>,\n",
       " <selenium.webdriver.remote.webelement.WebElement (session=\"7010c67a1d0f2c530438e46bdf126194\", element=\"b6f5c1f8-aa72-4a7e-9dbe-910c1595af59\")>,\n",
       " <selenium.webdriver.remote.webelement.WebElement (session=\"7010c67a1d0f2c530438e46bdf126194\", element=\"df6e94be-f4cc-4cac-906a-523855e78cf5\")>,\n",
       " <selenium.webdriver.remote.webelement.WebElement (session=\"7010c67a1d0f2c530438e46bdf126194\", element=\"4a429eaa-6b68-48b7-acb7-7ab96b70bbea\")>,\n",
       " <selenium.webdriver.remote.webelement.WebElement (session=\"7010c67a1d0f2c530438e46bdf126194\", element=\"eab1ad09-824e-4a6e-b191-0d2925a9f976\")>,\n",
       " <selenium.webdriver.remote.webelement.WebElement (session=\"7010c67a1d0f2c530438e46bdf126194\", element=\"745a2fd1-4688-4b28-b4af-389a3c67ff10\")>,\n",
       " <selenium.webdriver.remote.webelement.WebElement (session=\"7010c67a1d0f2c530438e46bdf126194\", element=\"8d7bb84e-1da6-497e-864d-108460da5dc7\")>,\n",
       " <selenium.webdriver.remote.webelement.WebElement (session=\"7010c67a1d0f2c530438e46bdf126194\", element=\"aabb24bd-38ea-4d01-aedc-96fd46005e67\")>,\n",
       " <selenium.webdriver.remote.webelement.WebElement (session=\"7010c67a1d0f2c530438e46bdf126194\", element=\"6d6ef87e-2795-4f6b-ad16-9f7237427b14\")>,\n",
       " <selenium.webdriver.remote.webelement.WebElement (session=\"7010c67a1d0f2c530438e46bdf126194\", element=\"1ddf3d40-6681-47e9-99f3-5a3046ad6043\")>,\n",
       " <selenium.webdriver.remote.webelement.WebElement (session=\"7010c67a1d0f2c530438e46bdf126194\", element=\"ca4a48a0-64dc-4714-834c-6b9e11b24387\")>,\n",
       " <selenium.webdriver.remote.webelement.WebElement (session=\"7010c67a1d0f2c530438e46bdf126194\", element=\"713d8bfb-14b7-48f2-8ce9-2f10e46ab49e\")>,\n",
       " <selenium.webdriver.remote.webelement.WebElement (session=\"7010c67a1d0f2c530438e46bdf126194\", element=\"8c63f560-c875-41e2-af36-a412af725917\")>,\n",
       " <selenium.webdriver.remote.webelement.WebElement (session=\"7010c67a1d0f2c530438e46bdf126194\", element=\"98dae948-71ca-4994-a674-29ff604ac88f\")>,\n",
       " <selenium.webdriver.remote.webelement.WebElement (session=\"7010c67a1d0f2c530438e46bdf126194\", element=\"85f9b1c7-57eb-4e49-8b9f-7b9a3a251186\")>,\n",
       " <selenium.webdriver.remote.webelement.WebElement (session=\"7010c67a1d0f2c530438e46bdf126194\", element=\"dcd814b4-d3d8-40f6-83f4-bc594623055f\")>,\n",
       " <selenium.webdriver.remote.webelement.WebElement (session=\"7010c67a1d0f2c530438e46bdf126194\", element=\"e37cafae-9fc6-4da6-9b8a-f2f32e21fdde\")>,\n",
       " <selenium.webdriver.remote.webelement.WebElement (session=\"7010c67a1d0f2c530438e46bdf126194\", element=\"5b20518d-48f7-4646-a4d4-cf77945e4629\")>,\n",
       " <selenium.webdriver.remote.webelement.WebElement (session=\"7010c67a1d0f2c530438e46bdf126194\", element=\"704fb68c-69cd-4120-9562-f330baf58c58\")>,\n",
       " <selenium.webdriver.remote.webelement.WebElement (session=\"7010c67a1d0f2c530438e46bdf126194\", element=\"3df63b57-6df9-400e-82bb-160adcab736b\")>,\n",
       " <selenium.webdriver.remote.webelement.WebElement (session=\"7010c67a1d0f2c530438e46bdf126194\", element=\"e1d1b3f7-e175-44ad-a3b1-18a86f0dad1d\")>,\n",
       " <selenium.webdriver.remote.webelement.WebElement (session=\"7010c67a1d0f2c530438e46bdf126194\", element=\"81ed292f-20c0-4fd4-850c-f3ae375c2473\")>,\n",
       " <selenium.webdriver.remote.webelement.WebElement (session=\"7010c67a1d0f2c530438e46bdf126194\", element=\"31fd9f4a-9bc8-4e12-8196-f532122146a8\")>,\n",
       " <selenium.webdriver.remote.webelement.WebElement (session=\"7010c67a1d0f2c530438e46bdf126194\", element=\"0bd56291-0e1c-49bb-99cb-49745d74d143\")>,\n",
       " <selenium.webdriver.remote.webelement.WebElement (session=\"7010c67a1d0f2c530438e46bdf126194\", element=\"082ca02e-d345-46db-afe6-d43bd3cc60d6\")>,\n",
       " <selenium.webdriver.remote.webelement.WebElement (session=\"7010c67a1d0f2c530438e46bdf126194\", element=\"33e7c042-d597-4656-8ecf-4d224a3340f7\")>,\n",
       " <selenium.webdriver.remote.webelement.WebElement (session=\"7010c67a1d0f2c530438e46bdf126194\", element=\"bb1d443b-f2e8-418c-9997-2173c73242cf\")>,\n",
       " <selenium.webdriver.remote.webelement.WebElement (session=\"7010c67a1d0f2c530438e46bdf126194\", element=\"4af25dd4-919f-4913-8554-f9e17d1fdda3\")>,\n",
       " <selenium.webdriver.remote.webelement.WebElement (session=\"7010c67a1d0f2c530438e46bdf126194\", element=\"6eb0dc83-d2c7-4fdf-b271-0e0ac75139c6\")>,\n",
       " <selenium.webdriver.remote.webelement.WebElement (session=\"7010c67a1d0f2c530438e46bdf126194\", element=\"f67fd658-3b45-4152-99ca-b3746b3fdeaa\")>,\n",
       " <selenium.webdriver.remote.webelement.WebElement (session=\"7010c67a1d0f2c530438e46bdf126194\", element=\"ab43ae66-d333-4d55-a30c-7763088c0049\")>,\n",
       " <selenium.webdriver.remote.webelement.WebElement (session=\"7010c67a1d0f2c530438e46bdf126194\", element=\"3bd99344-b6c9-4d9b-ba5c-3eb23acc5f7e\")>,\n",
       " <selenium.webdriver.remote.webelement.WebElement (session=\"7010c67a1d0f2c530438e46bdf126194\", element=\"86fc22f9-2272-4bae-a609-2590b4249278\")>,\n",
       " <selenium.webdriver.remote.webelement.WebElement (session=\"7010c67a1d0f2c530438e46bdf126194\", element=\"39dc423d-15fd-4933-8315-e68163235150\")>,\n",
       " <selenium.webdriver.remote.webelement.WebElement (session=\"7010c67a1d0f2c530438e46bdf126194\", element=\"84c2d133-fcf0-454d-8690-6dcc6891f399\")>,\n",
       " <selenium.webdriver.remote.webelement.WebElement (session=\"7010c67a1d0f2c530438e46bdf126194\", element=\"ac0cd1df-a815-4a56-9f03-f4455b60da60\")>]"
      ]
     },
     "execution_count": 18,
     "metadata": {},
     "output_type": "execute_result"
    }
   ],
   "source": [
    "prices"
   ]
  },
  {
   "cell_type": "code",
   "execution_count": 21,
   "metadata": {},
   "outputs": [],
   "source": [
    "image_urls = []\n",
    "brand_l = []\n",
    "price_l = []\n",
    "for image in images:\n",
    "    image_urls.append(image.get_attribute(\"src\"))\n",
    "for brand in brands:\n",
    "    brand_l.append(brand.text)\n",
    "for price in prices:\n",
    "    price_list = price.text.split('\\n')\n",
    "    if len(price_list) == 3:\n",
    "        price_l.append(price_list[1])\n",
    "    else:\n",
    "        price_l.append(price_list[0])\n",
    "# 각각의 앨리먼트로 가득찬 리스트에서 필요한 부분(이미지 주소 혹은 텍스트)을 가져옵니다."
   ]
  },
  {
   "cell_type": "code",
   "execution_count": 22,
   "metadata": {},
   "outputs": [
    {
     "data": {
      "text/plain": [
       "[]"
      ]
     },
     "execution_count": 22,
     "metadata": {},
     "output_type": "execute_result"
    }
   ],
   "source": [
    "image_urls"
   ]
  },
  {
   "cell_type": "code",
   "execution_count": null,
   "metadata": {},
   "outputs": [],
   "source": []
  }
 ],
 "metadata": {
  "kernelspec": {
   "display_name": "Python 3",
   "language": "python",
   "name": "python3"
  },
  "language_info": {
   "codemirror_mode": {
    "name": "ipython",
    "version": 3
   },
   "file_extension": ".py",
   "mimetype": "text/x-python",
   "name": "python",
   "nbconvert_exporter": "python",
   "pygments_lexer": "ipython3",
   "version": "3.6.10"
  }
 },
 "nbformat": 4,
 "nbformat_minor": 4
}
