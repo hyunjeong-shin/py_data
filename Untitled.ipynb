{
 "cells": [
  {
   "cell_type": "code",
   "execution_count": 1,
   "metadata": {},
   "outputs": [
    {
     "ename": "NameError",
     "evalue": "name 'webdriver' is not defined",
     "output_type": "error",
     "traceback": [
      "\u001b[1;31m---------------------------------------------------------------------------\u001b[0m",
      "\u001b[1;31mNameError\u001b[0m                                 Traceback (most recent call last)",
      "\u001b[1;32m<ipython-input-1-a37e9024cd0b>\u001b[0m in \u001b[0;36m<module>\u001b[1;34m\u001b[0m\n\u001b[0;32m      3\u001b[0m \u001b[1;32mfor\u001b[0m \u001b[0mi\u001b[0m \u001b[1;32min\u001b[0m \u001b[0ma\u001b[0m\u001b[1;33m:\u001b[0m\u001b[1;33m\u001b[0m\u001b[1;33m\u001b[0m\u001b[0m\n\u001b[0;32m      4\u001b[0m \u001b[1;33m\u001b[0m\u001b[0m\n\u001b[1;32m----> 5\u001b[1;33m     \u001b[0mdr\u001b[0m \u001b[1;33m=\u001b[0m \u001b[0mwebdriver\u001b[0m\u001b[1;33m.\u001b[0m\u001b[0mChrome\u001b[0m\u001b[1;33m(\u001b[0m\u001b[1;34m'C:\\py_data\\final_project/chromedriver.exe'\u001b[0m\u001b[1;33m)\u001b[0m\u001b[1;33m\u001b[0m\u001b[1;33m\u001b[0m\u001b[0m\n\u001b[0m\u001b[0;32m      6\u001b[0m     \u001b[0mdr\u001b[0m\u001b[1;33m.\u001b[0m\u001b[0mget\u001b[0m\u001b[1;33m(\u001b[0m\u001b[1;34m'https://store.musinsa.com/app/items/lists/001001/?category=&d_cat_cd=001001&u_cat_cd=&brand=&sort=pop&display_cnt=120&page='\u001b[0m\u001b[1;33m+\u001b[0m\u001b[0mstr\u001b[0m\u001b[1;33m(\u001b[0m\u001b[0mi\u001b[0m\u001b[1;33m)\u001b[0m \u001b[1;33m+\u001b[0m\u001b[1;34m'&page_kind=category&list_kind=small&free_dlv=&ex_soldout=&sale_goods=&exclusive_yn=&price=&color=1&a_cat_cd=&sex=&size=&tag=&popup=&brand_favorite_yn=&goods_favorite_yn=&blf_yn=&=&price1=&price2=&brand_favorite=&goods_favorite=&chk_exclusive=&chk_sale=&chk_soldout='\u001b[0m\u001b[1;33m)\u001b[0m\u001b[1;33m\u001b[0m\u001b[1;33m\u001b[0m\u001b[0m\n\u001b[0;32m      7\u001b[0m     \u001b[1;31m#무신사 홈페이지 접근 - 상의 버튼, 색 버튼 누르는거 구현이 힘들어서 그냥 상의, 반팔티, 흰색을 누른 사이트를 불러옴\u001b[0m\u001b[1;33m\u001b[0m\u001b[1;33m\u001b[0m\u001b[1;33m\u001b[0m\u001b[0m\n",
      "\u001b[1;31mNameError\u001b[0m: name 'webdriver' is not defined"
     ]
    }
   ],
   "source": [
    "a = [1,2,3,4,5]\n",
    "\n",
    "for i in a:\n",
    "\n",
    "    dr = webdriver.Chrome('C:\\py_data\\final_project/chromedriver.exe')\n",
    "    dr.get('https://store.musinsa.com/app/items/lists/001001/?category=&d_cat_cd=001001&u_cat_cd=&brand=&sort=pop&display_cnt=120&page='+str(i) +'&page_kind=category&list_kind=small&free_dlv=&ex_soldout=&sale_goods=&exclusive_yn=&price=&color=1&a_cat_cd=&sex=&size=&tag=&popup=&brand_favorite_yn=&goods_favorite_yn=&blf_yn=&=&price1=&price2=&brand_favorite=&goods_favorite=&chk_exclusive=&chk_sale=&chk_soldout=')\n",
    "    #무신사 홈페이지 접근 - 상의 버튼, 색 버튼 누르는거 구현이 힘들어서 그냥 상의, 반팔티, 흰색을 누른 사이트를 불러옴\n",
    "\n",
    "    target = 1000\n",
    "    while True:\n",
    "        full_height = dr.execute_script(\"return document.body.scrollHeight\")\n",
    "        dr.execute_script(\"window.scrollTo(250, {0});\".format(target))\n",
    "        time.sleep(3)\n",
    "        target = target + 700\n",
    "        if target >= full_height:\n",
    "            break\n",
    "    #사이트에서 화면에 비취진 부분의 사진만 로드되고, 로드 된 사진만 크롤링 할 수 있어서 스크롤을 내리는 작업이 필요하다.\n",
    "    #full_height에 전체 y방향 스크롤 길이를 넣고 target 값을 점점 키우면서 스크롤을 아래로 내리고 맨 아래에 도착하면 끝낸다.\n",
    "    #각자 화면 크기가 다를테니까 조정이 필요할듯...?\n",
    "\n",
    "    items = dr.find_element_by_id('searchList')\n",
    "    images = items.find_elements_by_css_selector('img[src^=\"//image.musinsa.com/images/goods_img\"]')\n",
    "    #사진의 url을 따오는 과정\n",
    "\n",
    "    image_urls = []\n",
    "    for image in images:\n",
    "        image_urls.append(image.get_attribute(\"src\"))\n",
    "    #url을 배열로 만드는 과정\n",
    "\n",
    "    for index, image_url in enumerate(image_urls):\n",
    "        urllib.request.urlretrieve(image_url, '\\\\Users\\\\mynsng\\\\result\\\\whiteall\\\\' + \"white, top \" + (i * str(index)) +\".jpg\")\n",
    "    #사진을 원하는 폴더에 원하는 이름으로 저장하는 과정"
   ]
  },
  {
   "cell_type": "code",
   "execution_count": 1,
   "metadata": {},
   "outputs": [],
   "source": [
    "import requests\n",
    "from bs4 import BeautifulSoup"
   ]
  },
  {
   "cell_type": "code",
   "execution_count": 5,
   "metadata": {},
   "outputs": [],
   "source": [
    "url = 'https://search.musinsa.com/search.naver?where=image&sm=tab_jum&query=원피스'\n",
    "res = requests.get(url).content.decode()\n",
    "soup = BeautifulSoup(res, 'html.parser')\n",
    "\n",
    "imgs = soup.findAll('img', class_='_img')\n",
    "for img in imgs:\n",
    "\tprint(img.get('data-source'))"
   ]
  },
  {
   "cell_type": "code",
   "execution_count": 6,
   "metadata": {},
   "outputs": [
    {
     "data": {
      "text/plain": [
       "'https://search.musinsa.com/search.naver?where=image&sm=tab_jum&query=원피스'"
      ]
     },
     "execution_count": 6,
     "metadata": {},
     "output_type": "execute_result"
    }
   ],
   "source": []
  },
  {
   "cell_type": "code",
   "execution_count": null,
   "metadata": {},
   "outputs": [],
   "source": []
  }
 ],
 "metadata": {
  "kernelspec": {
   "display_name": "Python 3",
   "language": "python",
   "name": "python3"
  },
  "language_info": {
   "codemirror_mode": {
    "name": "ipython",
    "version": 3
   },
   "file_extension": ".py",
   "mimetype": "text/x-python",
   "name": "python",
   "nbconvert_exporter": "python",
   "pygments_lexer": "ipython3",
   "version": "3.6.10"
  }
 },
 "nbformat": 4,
 "nbformat_minor": 4
}
